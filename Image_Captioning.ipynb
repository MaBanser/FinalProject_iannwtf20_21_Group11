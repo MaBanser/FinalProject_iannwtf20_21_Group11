{
  "nbformat": 4,
  "nbformat_minor": 0,
  "metadata": {
    "accelerator": "GPU",
    "colab": {
      "name": "Image_Captioning.ipynb",
      "provenance": [],
      "collapsed_sections": []
    },
    "kernelspec": {
      "display_name": "Python 3",
      "language": "python",
      "name": "python3"
    },
    "language_info": {
      "codemirror_mode": {
        "name": "ipython",
        "version": 3
      },
      "file_extension": ".py",
      "mimetype": "text/x-python",
      "name": "python",
      "nbconvert_exporter": "python",
      "pygments_lexer": "ipython3",
      "version": "3.8.5"
    }
  },
  "cells": [
    {
      "cell_type": "markdown",
      "metadata": {
        "id": "mqgfi8Jwgcm6"
      },
      "source": [
        "## Libraries"
      ]
    },
    {
      "cell_type": "code",
      "metadata": {
        "id": "nOJiK_kTgOlh"
      },
      "source": [
        "import numpy as np\n",
        "\n",
        "import tensorflow as tf\n",
        "from tensorflow.keras.layers import Layer\n",
        "from tensorflow.keras import Model\n",
        "import matplotlib.pyplot as plt\n",
        "\n",
        "import os\n",
        "import json\n",
        "import collections"
      ],
      "execution_count": 57,
      "outputs": []
    },
    {
      "cell_type": "markdown",
      "metadata": {
        "id": "KmIk034HTqQq"
      },
      "source": [
        "## Download Coco Dataset\n",
        "Training and validation Images/Annotations from 2014"
      ]
    },
    {
      "cell_type": "code",
      "metadata": {
        "id": "jNUK_7cLTptv",
        "colab": {
          "base_uri": "https://localhost:8080/"
        },
        "outputId": "3fa8a09c-1576-425f-d99a-94e4b44cf2f2"
      },
      "source": [
        "# Download train image files\n",
        "train_image_folder = '/train2014/'\n",
        "if not os.path.exists(os.path.abspath('.') + train_image_folder):\n",
        "    train_image_zip = tf.keras.utils.get_file('train2014.zip',\n",
        "                                      cache_subdir=os.path.abspath('.'),\n",
        "                                      origin = 'http://images.cocodataset.org/zips/train2014.zip',\n",
        "                                      extract = True)\n",
        "    train_image_folder = os.path.dirname(train_image_zip) + train_image_folder\n",
        "    os.remove(train_image_zip)\n",
        "else:\n",
        "    train_image_folder = os.path.abspath('.') + train_image_folder\n",
        "\n",
        "\n",
        "# Download validation image files\n",
        "val_image_folder = '/val2014/'\n",
        "if not os.path.exists(os.path.abspath('.') + val_image_folder):\n",
        "    val_image_zip = tf.keras.utils.get_file('val2014.zip',\n",
        "                                      cache_subdir=os.path.abspath('.'),\n",
        "                                      origin = 'http://images.cocodataset.org/zips/val2014.zip',\n",
        "                                      extract = True)\n",
        "    val_image_folder = os.path.dirname(val_image_zip) + val_image_folder\n",
        "    os.remove(val_image_zip)\n",
        "else:\n",
        "    val_image_folder = os.path.abspath('.') + val_image_folder\n",
        "\n",
        "\n",
        "# Download caption annotation files for training and validation\n",
        "annotation_folder = '/annotations/'\n",
        "if not os.path.exists(os.path.abspath('.') + annotation_folder):\n",
        "    annotation_zip = tf.keras.utils.get_file('captions.zip',\n",
        "                                          cache_subdir=os.path.abspath('.'),\n",
        "                                          origin = 'http://images.cocodataset.org/annotations/annotations_trainval2014.zip',\n",
        "                                          extract = True)\n",
        "    train_annotations_file = os.path.dirname(annotation_zip)+'/annotations/captions_train2014.json'\n",
        "    val_annotations_file = os.path.dirname(annotation_zip)+'/annotations/captions_val2014.json'\n",
        "    os.remove(annotation_zip)\n",
        "else:\n",
        "    train_annotations_file = os.path.abspath('.')+'/annotations/captions_train2014.json'\n",
        "    val_annotations_file = os.path.abspath('.')+'/annotations/captions_val2014.json'\n"
      ],
      "execution_count": 2,
      "outputs": [
        {
          "output_type": "stream",
          "text": [
            "Downloading data from http://images.cocodataset.org/zips/train2014.zip\n",
            "13510574080/13510573713 [==============================] - 309s 0us/step\n",
            "Downloading data from http://images.cocodataset.org/zips/val2014.zip\n",
            "6645014528/6645013297 [==============================] - 138s 0us/step\n",
            "Downloading data from http://images.cocodataset.org/annotations/annotations_trainval2014.zip\n",
            "252878848/252872794 [==============================] - 5s 0us/step\n"
          ],
          "name": "stdout"
        }
      ]
    },
    {
      "cell_type": "code",
      "metadata": {
        "id": "YMrwjAQXVC4L"
      },
      "source": [
        "with open(train_annotations_file, 'r') as file:\n",
        "    train_annotations = json.load(file)\n",
        "\n",
        "with open(val_annotations_file, 'r') as file:\n",
        "    val_annotations = json.load(file)"
      ],
      "execution_count": 3,
      "outputs": []
    },
    {
      "cell_type": "code",
      "metadata": {
        "colab": {
          "base_uri": "https://localhost:8080/"
        },
        "id": "5PlgCAV2bW9h",
        "outputId": "8c0b64a0-a7a4-4eb7-f3e5-b6dd112db6de"
      },
      "source": [
        "for anot in train_annotations['annotations']:\n",
        "    print(anot)\n",
        "    break"
      ],
      "execution_count": 4,
      "outputs": [
        {
          "output_type": "stream",
          "text": [
            "{'image_id': 318556, 'id': 48, 'caption': 'A very clean and well decorated empty bathroom'}\n"
          ],
          "name": "stdout"
        }
      ]
    },
    {
      "cell_type": "code",
      "metadata": {
        "id": "fgdiyNkVVF76"
      },
      "source": [
        "# Group all train captions together having the same image ID.\n",
        "train_image_id_to_captions = {}\n",
        "train_image_ids = []\n",
        "for anot in train_annotations['annotations']:\n",
        "    caption = f\"<start> {anot['caption']} <end>\"\n",
        "    train_image_id = 'COCO_train2014_' + '%012d' % (anot['image_id'])\n",
        "    try:\n",
        "        train_image_id_to_captions[train_image_id].append(caption)\n",
        "    except:\n",
        "        train_image_ids.append(train_image_id)\n",
        "        train_image_id_to_captions[train_image_id] = [caption]\n",
        "\n",
        "# Group all validation captions together having the same image ID.\n",
        "val_image_id_to_captions = {}\n",
        "val_image_ids = []\n",
        "for anot in val_annotations['annotations']:\n",
        "    caption = f\"<start> {anot['caption']} <end>\"\n",
        "    val_image_id = 'COCO_val2014_' + '%012d' % (anot['image_id'])\n",
        "    try:\n",
        "        val_image_id_to_captions[val_image_id].append(caption)\n",
        "    except:\n",
        "        val_image_ids.append(val_image_id)\n",
        "        val_image_id_to_captions[val_image_id] = [caption]"
      ],
      "execution_count": 5,
      "outputs": []
    },
    {
      "cell_type": "code",
      "metadata": {
        "colab": {
          "base_uri": "https://localhost:8080/"
        },
        "id": "YzzuLlTMmeqm",
        "outputId": "28fdc793-4c07-4162-80d1-58c03c6c0b7b"
      },
      "source": [
        "print(f\"Train Images: {len(train_image_ids)}\")\n",
        "print(f\"Validation Images: {len(val_image_ids)}\")"
      ],
      "execution_count": 6,
      "outputs": [
        {
          "output_type": "stream",
          "text": [
            "Train Images: 82783\n",
            "Validation Images: 40504\n"
          ],
          "name": "stdout"
        }
      ]
    },
    {
      "cell_type": "markdown",
      "metadata": {
        "id": "xZs9I0Wcgg8D"
      },
      "source": [
        "## Input Pipeline"
      ]
    },
    {
      "cell_type": "markdown",
      "metadata": {
        "id": "zDsiZrxNydHo"
      },
      "source": [
        "### Preprocess Images"
      ]
    },
    {
      "cell_type": "code",
      "metadata": {
        "id": "UouENDGYlqgz"
      },
      "source": [
        "image_dim = (64, 64)\n",
        "num_patches_h = 4\n",
        "num_patches_v = 4\n",
        "\n",
        "patch_height = image_dim[0]//num_patches_v\n",
        "patch_width = image_dim[1]//num_patches_h"
      ],
      "execution_count": 7,
      "outputs": []
    },
    {
      "cell_type": "code",
      "metadata": {
        "id": "AnKrJ_QqCmnN"
      },
      "source": [
        "# Loading, resizing and normalizing image\n",
        "def load_image(image_path):\n",
        "    img = tf.io.read_file(image_path)\n",
        "    img = tf.image.decode_jpeg(img, channels=3)\n",
        "    img = tf.image.resize(img, image_dim, method='nearest')\n",
        "    img = 2*(img/255)-1\n",
        "    return img\n",
        "\n",
        "# Divide image in equal patches\n",
        "def create_patches(image, batch = True):\n",
        "    if not batch:\n",
        "        image = tf.expand_dims(image, 0)\n",
        "    patches = tf.image.extract_patches(images=image,\n",
        "                           sizes=[1, patch_height, patch_width, 1],\n",
        "                           strides=[1, patch_height, patch_width, 1],\n",
        "                           rates=[1, 1, 1, 1],\n",
        "                           padding='VALID')\n",
        "    if not batch:\n",
        "        patches = tf.squeeze(patches)\n",
        "    return patches"
      ],
      "execution_count": 8,
      "outputs": []
    },
    {
      "cell_type": "code",
      "metadata": {
        "colab": {
          "base_uri": "https://localhost:8080/",
          "height": 386
        },
        "id": "7glRtKrTm3Va",
        "scrolled": false,
        "outputId": "ae47b00a-7f0f-42c0-cd33-a81458a1014f"
      },
      "source": [
        "img = load_image(train_image_folder + train_image_ids[5] + '.jpg')\n",
        "captions = train_image_id_to_captions[train_image_ids[5]]\n",
        "print(img.shape)\n",
        "plt.imshow(img)\n",
        "captions"
      ],
      "execution_count": 9,
      "outputs": [
        {
          "output_type": "stream",
          "text": [
            "Clipping input data to the valid range for imshow with RGB data ([0..1] for floats or [0..255] for integers).\n"
          ],
          "name": "stderr"
        },
        {
          "output_type": "stream",
          "text": [
            "(48, 48, 3)\n"
          ],
          "name": "stdout"
        },
        {
          "output_type": "execute_result",
          "data": {
            "text/plain": [
              "['<start> An empty kitchen with white and black appliances. <end>',\n",
              " '<start> A refrigerator and stove are in a small kitchen area.  <end>',\n",
              " '<start> Small kitchen in a personal home with dual sinks. <end>',\n",
              " '<start> A small kitchen with sink, stove and refrigerator. <end>',\n",
              " '<start> A small kitchen with several appliances and cookware. <end>']"
            ]
          },
          "metadata": {
            "tags": []
          },
          "execution_count": 9
        },
        {
          "output_type": "display_data",
          "data": {
            "image/png": "[encoded data removed]",
            "text/plain": [
              "<Figure size 432x288 with 1 Axes>"
            ]
          },
          "metadata": {
            "tags": [],
            "needs_background": "light"
          }
        }
      ]
    },
    {
      "cell_type": "markdown",
      "metadata": {
        "id": "b1OuOIJpyjHQ"
      },
      "source": [
        "### Preprocess Captions"
      ]
    },
    {
      "cell_type": "code",
      "metadata": {
        "id": "60lszbDhYUxR"
      },
      "source": [
        "train_captions = []\n",
        "val_captions = []\n",
        "\n",
        "train_image_path = []\n",
        "val_image_path = []\n",
        "\n",
        "for img_id in train_image_ids:\n",
        "    caption_list = train_image_id_to_captions[img_id]\n",
        "    train_captions.extend(caption_list)\n",
        "    train_image_path.extend([train_image_folder + img_id + '.jpg'] * len(caption_list))\n",
        "\n",
        "for img_id in val_image_ids:\n",
        "    caption_list = val_image_id_to_captions[img_id]\n",
        "    val_captions.extend(caption_list)\n",
        "    val_image_path.extend([val_image_folder + img_id + '.jpg'] * len(caption_list))\n",
        "\n",
        "all_captions = train_captions + val_captions\n",
        "\n",
        "# Choose the top 5000 words from the vocabulary\n",
        "WORD_NUM = 5000\n",
        "tokenizer = tf.keras.preprocessing.text.Tokenizer(num_words=WORD_NUM,\n",
        "                                                  oov_token='<unk>',\n",
        "                                                  filters='!\"#$%&()*+.,-/:;=?@[\\]^_`{|}~ ')\n",
        "tokenizer.fit_on_texts(all_captions)\n",
        "\n",
        "tokenizer.word_index['<pad>'] = 0\n",
        "tokenizer.index_word[0] = '<pad>'\n",
        "\n",
        "# Create the tokenized vectors for train captions\n",
        "train_captions_tokenized = tokenizer.texts_to_sequences(train_captions)\n",
        "val_captions_tokenized = tokenizer.texts_to_sequences(val_captions)\n",
        "    \n",
        "max_seq_len = max(len(seq) for seq in train_captions_tokenized + val_captions_tokenized)\n",
        "\n",
        "# Pad sequences\n",
        "train_captions_padded = tf.keras.preprocessing.sequence.pad_sequences(train_captions_tokenized, maxlen=max_seq_len, padding='post')\n",
        "val_captions_padded = tf.keras.preprocessing.sequence.pad_sequences(val_captions_tokenized, maxlen=max_seq_len, padding='post')"
      ],
      "execution_count": 10,
      "outputs": []
    },
    {
      "cell_type": "markdown",
      "metadata": {
        "id": "B7oKolSNzUsh"
      },
      "source": [
        "### Build Dataset"
      ]
    },
    {
      "cell_type": "code",
      "metadata": {
        "id": "vcr1M8UOA0Vm"
      },
      "source": [
        "BATCH_SIZE = 4"
      ],
      "execution_count": 11,
      "outputs": []
    },
    {
      "cell_type": "code",
      "metadata": {
        "id": "qegEAQo-AuwA"
      },
      "source": [
        "train_dataset = tf.data.Dataset.from_tensor_slices((train_image_path, train_captions_padded))\n",
        "val_dataset = tf.data.Dataset.from_tensor_slices((val_image_path, val_captions_padded))\n",
        "\n",
        "# Shuffle dataset\n",
        "train_dataset = train_dataset.shuffle(BATCH_SIZE)\n",
        "val_dataset = val_dataset.shuffle(BATCH_SIZE)\n",
        "\n",
        "# Map paths to images and create batches\n",
        "train_dataset = train_dataset.map(lambda img_path, cap: (load_image(img_path), cap),\n",
        "                                  num_parallel_calls=tf.data.experimental.AUTOTUNE).batch(BATCH_SIZE)\n",
        "val_dataset = val_dataset.map(lambda img_path, cap: (load_image(img_path), cap),\n",
        "                              num_parallel_calls=tf.data.experimental.AUTOTUNE).batch(BATCH_SIZE)\n",
        "\n",
        "# # Map images to patches\n",
        "train_dataset = train_dataset.map(lambda img, cap: (create_patches(img), cap),\n",
        "                                  num_parallel_calls=tf.data.experimental.AUTOTUNE)\n",
        "val_dataset = val_dataset.map(lambda img, cap: (create_patches(img), cap),\n",
        "                              num_parallel_calls=tf.data.experimental.AUTOTUNE)\n",
        "\n",
        "# Prefetch\n",
        "train_dataset = train_dataset.prefetch(tf.data.experimental.AUTOTUNE)\n",
        "val_dataset = val_dataset.prefetch(tf.data.experimental.AUTOTUNE)"
      ],
      "execution_count": 12,
      "outputs": []
    },
    {
      "cell_type": "code",
      "metadata": {
        "colab": {
          "base_uri": "https://localhost:8080/"
        },
        "id": "kZEQiQG-F9jT",
        "outputId": "59007f2d-2230-47f0-f84e-4c85df567fc6"
      },
      "source": [
        "for elem in train_dataset.take(1):\n",
        "    print(elem[0])\n",
        "    print(elem[1])"
      ],
      "execution_count": 13,
      "outputs": [
        {
          "output_type": "stream",
          "text": [
            "tf.Tensor(\n",
            "[[[[-0.6156863  -0.2862745  -0.09019607 ...  0.30980396  0.4901961\n",
            "     0.6       ]\n",
            "   [-0.78039217 -0.4980392  -0.32549018 ... -0.81960785 -0.4588235\n",
            "    -0.3333333 ]\n",
            "   [-0.8666667  -0.6862745  -0.5764706  ... -0.8117647  -0.6627451\n",
            "    -0.54509807]\n",
            "   [-0.94509804 -0.8039216  -0.7254902  ... -0.85882354 -0.60784316\n",
            "    -0.52156866]]\n",
            "\n",
            "  [[ 0.99215686  0.99215686  0.99215686 ...  0.4039216   0.38823533\n",
            "     0.41176474]\n",
            "   [ 0.3411765   0.47450984  0.5294118  ... -0.75686276 -0.372549\n",
            "    -0.23921567]\n",
            "   [-0.9137255  -0.5921569  -0.5764706  ...  0.6313726   0.78039217\n",
            "    -0.04313725]\n",
            "   [-0.38039213  0.30980396  0.38823533 ... -0.75686276 -0.44313723\n",
            "    -0.36470586]]\n",
            "\n",
            "  [[ 0.96862745  0.9843137   0.9764706  ...  0.35686278  0.32549024\n",
            "     0.2313726 ]\n",
            "   [ 0.27058828  0.27058828  0.254902   ...  0.2313726   0.20784318\n",
            "     0.07450986]\n",
            "   [-0.69411767 -0.36470586 -0.23921567 ... -0.00392157  0.0196079\n",
            "     0.05882359]\n",
            "   [ 0.92941177  0.94509804  0.8352941  ...  0.75686276  0.7647059\n",
            "     0.78039217]]\n",
            "\n",
            "  [[ 0.5137255   0.49803925  0.4039216  ...  0.04313731  0.01176476\n",
            "    -0.08235294]\n",
            "   [ 0.3176471   0.2941177   0.23921573 ...  0.05882359  0.04313731\n",
            "    -0.05098039]\n",
            "   [ 0.22352946  0.2313726   0.10588241 ...  0.03529418 -0.05098039\n",
            "    -0.06666666]\n",
            "   [-0.49019605 -0.44313723 -0.47450978 ... -0.15294117 -0.18431371\n",
            "    -0.20784312]]]\n",
            "\n",
            "\n",
            " [[[-0.6156863  -0.2862745  -0.09019607 ...  0.30980396  0.4901961\n",
            "     0.6       ]\n",
            "   [-0.78039217 -0.4980392  -0.32549018 ... -0.81960785 -0.4588235\n",
            "    -0.3333333 ]\n",
            "   [-0.8666667  -0.6862745  -0.5764706  ... -0.8117647  -0.6627451\n",
            "    -0.54509807]\n",
            "   [-0.94509804 -0.8039216  -0.7254902  ... -0.85882354 -0.60784316\n",
            "    -0.52156866]]\n",
            "\n",
            "  [[ 0.99215686  0.99215686  0.99215686 ...  0.4039216   0.38823533\n",
            "     0.41176474]\n",
            "   [ 0.3411765   0.47450984  0.5294118  ... -0.75686276 -0.372549\n",
            "    -0.23921567]\n",
            "   [-0.9137255  -0.5921569  -0.5764706  ...  0.6313726   0.78039217\n",
            "    -0.04313725]\n",
            "   [-0.38039213  0.30980396  0.38823533 ... -0.75686276 -0.44313723\n",
            "    -0.36470586]]\n",
            "\n",
            "  [[ 0.96862745  0.9843137   0.9764706  ...  0.35686278  0.32549024\n",
            "     0.2313726 ]\n",
            "   [ 0.27058828  0.27058828  0.254902   ...  0.2313726   0.20784318\n",
            "     0.07450986]\n",
            "   [-0.69411767 -0.36470586 -0.23921567 ... -0.00392157  0.0196079\n",
            "     0.05882359]\n",
            "   [ 0.92941177  0.94509804  0.8352941  ...  0.75686276  0.7647059\n",
            "     0.78039217]]\n",
            "\n",
            "  [[ 0.5137255   0.49803925  0.4039216  ...  0.04313731  0.01176476\n",
            "    -0.08235294]\n",
            "   [ 0.3176471   0.2941177   0.23921573 ...  0.05882359  0.04313731\n",
            "    -0.05098039]\n",
            "   [ 0.22352946  0.2313726   0.10588241 ...  0.03529418 -0.05098039\n",
            "    -0.06666666]\n",
            "   [-0.49019605 -0.44313723 -0.47450978 ... -0.15294117 -0.18431371\n",
            "    -0.20784312]]]\n",
            "\n",
            "\n",
            " [[[-1.         -1.         -1.         ... -0.69411767 -0.27843136\n",
            "    -0.1372549 ]\n",
            "   [ 0.30980396 -0.46666664 -0.9764706  ...  0.45882356  0.02745104\n",
            "    -0.62352943]\n",
            "   [-1.         -1.         -1.         ...  0.14509809 -0.46666664\n",
            "    -0.84313726]\n",
            "   [-1.         -1.         -1.         ... -1.         -1.\n",
            "    -1.        ]]\n",
            "\n",
            "  [[-1.         -1.         -1.         ... -0.5686275  -0.38823527\n",
            "    -0.79607844]\n",
            "   [-0.8901961  -0.5921569  -0.58431375 ... -0.6862745  -0.8745098\n",
            "    -0.90588236]\n",
            "   [ 0.30980396 -0.19999999 -0.827451   ...  0.6392157   0.67058825\n",
            "     0.6627451 ]\n",
            "   [ 0.07450986 -0.5058824  -0.8745098  ... -1.         -1.\n",
            "    -1.        ]]\n",
            "\n",
            "  [[ 0.18431377 -0.09803921 -0.49019605 ... -1.         -0.99215686\n",
            "    -1.        ]\n",
            "   [-0.1372549  -0.7411765  -0.9764706  ... -0.12156862 -0.5137255\n",
            "    -0.99215686]\n",
            "   [-0.84313726 -0.8980392  -0.8352941  ...  0.4666667   0.30980396\n",
            "     0.09803927]\n",
            "   [-0.11372548 -0.12156862 -0.15294117 ... -1.         -1.\n",
            "    -1.        ]]\n",
            "\n",
            "  [[-1.         -1.         -1.         ... -1.         -1.\n",
            "    -1.        ]\n",
            "   [-1.         -1.         -1.         ... -1.         -1.\n",
            "    -1.        ]\n",
            "   [-0.41176468 -0.70980394 -1.         ... -1.         -0.9843137\n",
            "    -0.99215686]\n",
            "   [ 0.03529418 -0.15294117 -0.35686272 ... -1.         -1.\n",
            "    -1.        ]]]\n",
            "\n",
            "\n",
            " [[[-0.6156863  -0.2862745  -0.09019607 ...  0.30980396  0.4901961\n",
            "     0.6       ]\n",
            "   [-0.78039217 -0.4980392  -0.32549018 ... -0.81960785 -0.4588235\n",
            "    -0.3333333 ]\n",
            "   [-0.8666667  -0.6862745  -0.5764706  ... -0.8117647  -0.6627451\n",
            "    -0.54509807]\n",
            "   [-0.94509804 -0.8039216  -0.7254902  ... -0.85882354 -0.60784316\n",
            "    -0.52156866]]\n",
            "\n",
            "  [[ 0.99215686  0.99215686  0.99215686 ...  0.4039216   0.38823533\n",
            "     0.41176474]\n",
            "   [ 0.3411765   0.47450984  0.5294118  ... -0.75686276 -0.372549\n",
            "    -0.23921567]\n",
            "   [-0.9137255  -0.5921569  -0.5764706  ...  0.6313726   0.78039217\n",
            "    -0.04313725]\n",
            "   [-0.38039213  0.30980396  0.38823533 ... -0.75686276 -0.44313723\n",
            "    -0.36470586]]\n",
            "\n",
            "  [[ 0.96862745  0.9843137   0.9764706  ...  0.35686278  0.32549024\n",
            "     0.2313726 ]\n",
            "   [ 0.27058828  0.27058828  0.254902   ...  0.2313726   0.20784318\n",
            "     0.07450986]\n",
            "   [-0.69411767 -0.36470586 -0.23921567 ... -0.00392157  0.0196079\n",
            "     0.05882359]\n",
            "   [ 0.92941177  0.94509804  0.8352941  ...  0.75686276  0.7647059\n",
            "     0.78039217]]\n",
            "\n",
            "  [[ 0.5137255   0.49803925  0.4039216  ...  0.04313731  0.01176476\n",
            "    -0.08235294]\n",
            "   [ 0.3176471   0.2941177   0.23921573 ...  0.05882359  0.04313731\n",
            "    -0.05098039]\n",
            "   [ 0.22352946  0.2313726   0.10588241 ...  0.03529418 -0.05098039\n",
            "    -0.06666666]\n",
            "   [-0.49019605 -0.44313723 -0.47450978 ... -0.15294117 -0.18431371\n",
            "    -0.20784312]]]], shape=(4, 4, 4, 432), dtype=float32)\n",
            "tf.Tensor(\n",
            "[[   3    2   60   10   22   58    9 2937 1872  135 1217    4    0    0\n",
            "     0    0    0    0    0    0    0    0    0    0    0    0    0    0\n",
            "     0    0    0    0    0    0    0    0    0    0    0    0    0    0\n",
            "     0    0    0    0    0    0    0    0    0    0]\n",
            " [   3   15 4767  168    6    2 3514  421   58    4    0    0    0    0\n",
            "     0    0    0    0    0    0    0    0    0    0    0    0    0    0\n",
            "     0    0    0    0    0    0    0    0    0    0    0    0    0    0\n",
            "     0    0    0    0    0    0    0    0    0    0]\n",
            " [   3    2 3883  168    6    2   61   10  318    6  155  613    4    0\n",
            "     0    0    0    0    0    0    0    0    0    0    0    0    0    0\n",
            "     0    0    0    0    0    0    0    0    0    0    0    0    0    0\n",
            "     0    0    0    0    0    0    0    0    0    0]\n",
            " [   3    2  141  500   10  632  421  272   58    4    0    0    0    0\n",
            "     0    0    0    0    0    0    0    0    0    0    0    0    0    0\n",
            "     0    0    0    0    0    0    0    0    0    0    0    0    0    0\n",
            "     0    0    0    0    0    0    0    0    0    0]], shape=(4, 52), dtype=int32)\n"
          ],
          "name": "stdout"
        }
      ]
    },
    {
      "cell_type": "markdown",
      "metadata": {
        "id": "uajJDRExjDAx"
      },
      "source": [
        "## Build Model"
      ]
    },
    {
      "cell_type": "markdown",
      "metadata": {
        "id": "CzcHOgLWhrQL"
      },
      "source": [
        "### Scaled Dot Product Attention"
      ]
    },
    {
      "cell_type": "code",
      "metadata": {
        "id": "dDn4TWr_hvhc"
      },
      "source": [
        "def scaled_dot_product_attention(query, key, value, mask):\n",
        "    # Calculate the attention scores from query and key\n",
        "    scores = tf.matmul(query, key, transpose_b=True) / tf.math.sqrt(tf.cast(key.shape[-1],tf.float32))\n",
        "\n",
        "    # Add a negative mask so that the softmax-scores for values that the model shouldn't attend to will be near 0\n",
        "    if mask is not None:\n",
        "        scores += (mask * -1e9)  \n",
        "\n",
        "    # Calculate the softmax score\n",
        "    attention_weights = tf.nn.softmax(scores)\n",
        "\n",
        "    # Weight values by softmax score\n",
        "    output = attention_weights @ value\n",
        "\n",
        "    return output, attention_weights"
      ],
      "execution_count": 14,
      "outputs": []
    },
    {
      "cell_type": "markdown",
      "metadata": {
        "id": "2Wgxx74GhIaS"
      },
      "source": [
        "###  Multi Head Attention"
      ]
    },
    {
      "cell_type": "code",
      "metadata": {
        "id": "UbU4a_JuhVzU"
      },
      "source": [
        "class MultiHeadAttention(Layer):\n",
        "    def __init__(self, model_dim, num_heads):\n",
        "        super(MultiHeadAttention, self).__init__()\n",
        "        self.num_heads = num_heads\n",
        "        self.model_dim = model_dim\n",
        "        \n",
        "        # Make sure model dimension can be divided by the number of attention heads\n",
        "        assert model_dim % num_heads == 0\n",
        "\n",
        "        self.head_dim = model_dim // num_heads\n",
        "\n",
        "        # Create Query, Key and Value matrix\n",
        "        self.wq = tf.keras.layers.Dense(model_dim)\n",
        "        self.wk = tf.keras.layers.Dense(model_dim)\n",
        "        self.wv = tf.keras.layers.Dense(model_dim)\n",
        "\n",
        "        # Create output matrix\n",
        "        self.wo = tf.keras.layers.Dense(model_dim)\n",
        "\n",
        "    def split_heads(self, x, batch_size):\n",
        "        x = tf.reshape(x, (batch_size, -1, self.num_heads, self.head_dim))\n",
        "        # Transpose so that output has shape (batch_size, num_head, seq_len, head_dim)\n",
        "        return tf.transpose(x, perm=[0, 2, 1, 3])\n",
        "\n",
        "    def call(self, value, key, query, mask):\n",
        "        batch_size = query.shape[0]\n",
        "\n",
        "        # shape == (batch_size, seq_len, model_dim)\n",
        "        query = self.wq(query)\n",
        "        key = self.wk(key)\n",
        "        value = self.wv(value)\n",
        "\n",
        "        # Split up the heads\n",
        "        query = self.split_heads(query, batch_size)\n",
        "        key = self.split_heads(key, batch_size)\n",
        "        value = self.split_heads(value, batch_size)\n",
        "\n",
        "        # attention.shape == (batch_size, num_heads, seq_len, head_dim)\n",
        "        attention, attention_weights = scaled_dot_product_attention(query, key, value, mask)\n",
        "\n",
        "        # Concatenate heads back together\n",
        "        attention = tf.transpose(attention, perm=[0, 2, 1, 3])  # (batch_size, seq_len, num_heads, head_dim)\n",
        "        attention = tf.reshape(attention,(batch_size, -1, self.model_dim))  # (batch_size, seq_len, model_dim)\n",
        "\n",
        "        output = self.wo(attention)  # (batch_size, seq_len, output_dim)\n",
        "\n",
        "        return output, attention_weights"
      ],
      "execution_count": 15,
      "outputs": []
    },
    {
      "cell_type": "markdown",
      "metadata": {
        "id": "rQE5eyrYjGuk"
      },
      "source": [
        "### Positional Encodings"
      ]
    },
    {
      "cell_type": "code",
      "metadata": {
        "id": "lnO-U2lLjI18"
      },
      "source": [
        "def positional_encoding(seq_len, model_dim):\n",
        "    # Calculate the positional encoding following the formulation of the 'Attention is all you need' paper\n",
        "    pos = np.expand_dims(np.arange(seq_len),1)\n",
        "    i = np.expand_dims(np.arange(model_dim),0)\n",
        "    angle_rads = pos/(10000**(2*(i//2)/model_dim))\n",
        "\n",
        "    # Apply sin to even indices in the array\n",
        "    angle_rads[:, 0::2] = np.sin(angle_rads[:, 0::2])\n",
        "\n",
        "    # Apply cos to odd indices in the array\n",
        "    angle_rads[:, 1::2] = np.cos(angle_rads[:, 1::2])\n",
        "\n",
        "    # Add batch dimension\n",
        "    pos_encoding = np.expand_dims(angle_rads,0)\n",
        "\n",
        "    return tf.cast(pos_encoding, dtype=tf.float32)"
      ],
      "execution_count": 16,
      "outputs": []
    },
    {
      "cell_type": "code",
      "metadata": {
        "colab": {
          "base_uri": "https://localhost:8080/",
          "height": 518
        },
        "id": "XAeMJdVZtEAL",
        "outputId": "5635607f-051b-463c-adf0-56e15280554d"
      },
      "source": [
        "n, d = 10, 65\n",
        "pos_encoding = positional_encoding(n, d)\n",
        "print(pos_encoding.shape)\n",
        "pos_encoding = pos_encoding[0]\n",
        "\n",
        "plt.figure(figsize=(12,8))\n",
        "plt.pcolormesh(pos_encoding)\n",
        "plt.ylabel('Position')\n",
        "plt.xlabel('Embedding Dimension')\n",
        "plt.colorbar()\n",
        "plt.show()"
      ],
      "execution_count": 17,
      "outputs": [
        {
          "output_type": "stream",
          "text": [
            "(1, 10, 65)\n"
          ],
          "name": "stdout"
        },
        {
          "output_type": "display_data",
          "data": {
            "image/png": "[encoded data removed]",
            "text/plain": [
              "<Figure size 864x576 with 2 Axes>"
            ]
          },
          "metadata": {
            "tags": [],
            "needs_background": "light"
          }
        }
      ]
    },
    {
      "cell_type": "markdown",
      "metadata": {
        "id": "7Ak-jJGZjLiJ"
      },
      "source": [
        "### Look Ahead Mask"
      ]
    },
    {
      "cell_type": "code",
      "metadata": {
        "id": "qxvN9lx2jOGE"
      },
      "source": [
        "def look_ahead_mask(size):\n",
        "    # Create a triangular matrix filled with ones to prevent the decoder from attending to it's future prediction targets\n",
        "    mask = 1 - tf.linalg.band_part(tf.ones((size, size)), -1, 0)\n",
        "    return mask"
      ],
      "execution_count": 18,
      "outputs": []
    },
    {
      "cell_type": "markdown",
      "metadata": {
        "id": "7cLav47Lh51b"
      },
      "source": [
        "### Encoder Layer"
      ]
    },
    {
      "cell_type": "code",
      "metadata": {
        "id": "HtJW_Utkh2sR"
      },
      "source": [
        "class EncoderLayer(Layer):\n",
        "    def __init__(self, model_dim, num_heads, ffn_units, dropout_rate):\n",
        "        super(EncoderLayer, self).__init__()\n",
        "\n",
        "        self.attention = MultiHeadAttention(model_dim, num_heads)\n",
        "        self.dropout_1 = tf.keras.layers.Dropout(dropout_rate)\n",
        "        self.layernorm_1 = tf.keras.layers.LayerNormalization()\n",
        "\n",
        "        self.feedForward = [\n",
        "            tf.keras.layers.Dense(ffn_units, activation='relu'),\n",
        "            tf.keras.layers.Dense(model_dim)\n",
        "        ]\n",
        "        self.dropout_2 = tf.keras.layers.Dropout(dropout_rate)\n",
        "        self.layernorm_2 = tf.keras.layers.LayerNormalization()\n",
        "    \n",
        "    def call(self, x, mask, training = False):\n",
        "        # Self-Attention block with residual connection\n",
        "        attention_out, _ = self.attention(x, x, x, mask)\n",
        "        attention_out = self.dropout_1(attention_out,training=training)\n",
        "        x = self.layernorm_1(x + attention_out)\n",
        "\n",
        "        # Feed-Forward block with residual connection\n",
        "        feedForward_out = x\n",
        "        for layer in self.feedForward:\n",
        "            feedForward_out = layer(feedForward_out)\n",
        "        feedForward_out = self.dropout_2(feedForward_out, training=training)\n",
        "        x = self.layernorm_2(x + feedForward_out)\n",
        "\n",
        "        return x"
      ],
      "execution_count": 19,
      "outputs": []
    },
    {
      "cell_type": "markdown",
      "metadata": {
        "id": "jq6fZVLVh8kP"
      },
      "source": [
        "### Decoder Layer"
      ]
    },
    {
      "cell_type": "code",
      "metadata": {
        "id": "tl2n5qVSh_2-"
      },
      "source": [
        "class DecoderLayer(Layer):\n",
        "    def __init__(self, model_dim, num_heads, ffn_units, dropout_rate):\n",
        "        super(DecoderLayer, self).__init__()\n",
        "\n",
        "        self.attention = MultiHeadAttention(model_dim, num_heads)\n",
        "        self.dropout_1 = tf.keras.layers.Dropout(dropout_rate)\n",
        "        self.layernorm_1 = tf.keras.layers.LayerNormalization()\n",
        "\n",
        "        self.enc_dec_attention = MultiHeadAttention(model_dim, num_heads)\n",
        "        self.dropout_2 = tf.keras.layers.Dropout(dropout_rate)\n",
        "        self.layernorm_2 = tf.keras.layers.LayerNormalization()\n",
        "\n",
        "        self.feedForward = [\n",
        "            tf.keras.layers.Dense(ffn_units, activation='relu'),\n",
        "            tf.keras.layers.Dense(model_dim)\n",
        "        ]\n",
        "        self.dropout_3 = tf.keras.layers.Dropout(dropout_rate)\n",
        "        self.layernorm_3 = tf.keras.layers.LayerNormalization()\n",
        "    \n",
        "    def call(self, x, enc_out, mask, training = False):\n",
        "        # Self-Attention block with residual connection\n",
        "        attention_out, _ = self.attention(x, x, x, mask)\n",
        "        attention_out = self.dropout_1(attention_out,training=training)\n",
        "        x = self.layernorm_1(x + attention_out)\n",
        "\n",
        "        # Encoder-Decoder Attention block with residual connection\n",
        "        enc_dec_attention_out, attention_weights = self.enc_dec_attention(enc_out, enc_out, x, mask=None)\n",
        "        enc_dec_attention_out = self.dropout_2(enc_dec_attention_out,training=training)\n",
        "        x = self.layernorm_2(x + enc_dec_attention_out)\n",
        "\n",
        "        # Feed-Forward block with residual connection\n",
        "        feedForward_out = x\n",
        "        for layer in self.feedForward:\n",
        "            feedForward_out = layer(feedForward_out)\n",
        "        feedForward_out = self.dropout_3(feedForward_out, training=training)\n",
        "        x = self.layernorm_3(x + feedForward_out)\n",
        "\n",
        "        return x, attention_weights"
      ],
      "execution_count": 20,
      "outputs": []
    },
    {
      "cell_type": "markdown",
      "metadata": {
        "id": "-7I53RfOiFQa"
      },
      "source": [
        "### Encoder"
      ]
    },
    {
      "cell_type": "code",
      "metadata": {
        "id": "FEsl7t7niG65"
      },
      "source": [
        "class Encoder(Layer):\n",
        "    def __init__(self, num_layers, model_dim, num_heads, ffn_units, seq_len, dropout_rate):\n",
        "        super(Encoder, self).__init__()\n",
        "        self.model_dim = model_dim\n",
        "\n",
        "        self.embedding = tf.keras.layers.Dense(model_dim)\n",
        "        self.pos_encoding = positional_encoding(seq_len,model_dim)\n",
        "        self.dropout = tf.keras.layers.Dropout(dropout_rate)\n",
        "\n",
        "        self.enc_layers = [EncoderLayer(model_dim,num_heads,ffn_units,dropout_rate) for _ in range(num_layers)]\n",
        "\n",
        "    def call(self, x, mask, training=False):\n",
        "        batch_size = x.shape[0]\n",
        "\n",
        "        # Reshape the input so that the image patches are in one sequence\n",
        "        # (batch_size, horizontal_patches, vertical_patches, pixels) -> (batch_size, patches, pixels)\n",
        "        x = tf.reshape(x,(batch_size,-1, x.shape[-1]))\n",
        "\n",
        "        seq_len = x.shape[1]\n",
        "\n",
        "        # Embed input in model_dim and add positional encoding \n",
        "        x = self.embedding(x)\n",
        "        x *= tf.math.sqrt(tf.cast(self.model_dim, tf.float32))\n",
        "        x += self.pos_encoding[:, :seq_len, :]\n",
        "        x = self.dropout(x, training=training)\n",
        "\n",
        "        # Go through the encoder layers\n",
        "        for layer in self.enc_layers:\n",
        "            x = layer(x, mask, training)\n",
        "\n",
        "        return x"
      ],
      "execution_count": 21,
      "outputs": []
    },
    {
      "cell_type": "markdown",
      "metadata": {
        "id": "SrUkPaYZiJlk"
      },
      "source": [
        "### Decoder"
      ]
    },
    {
      "cell_type": "code",
      "metadata": {
        "id": "BuM7haa8iMxP"
      },
      "source": [
        "class Decoder(Layer):\n",
        "    def __init__(self, vocab_size, num_layers, model_dim, num_heads, ffn_units, seq_len, dropout_rate):\n",
        "        super(Decoder, self).__init__()\n",
        "        self.model_dim = model_dim\n",
        "\n",
        "        self.embedding = tf.keras.layers.Embedding(input_dim=vocab_size, output_dim=model_dim)\n",
        "        self.pos_encoding = positional_encoding(seq_len, model_dim)\n",
        "        self.dropout = tf.keras.layers.Dropout(dropout_rate)\n",
        "\n",
        "        self.dec_layers = [DecoderLayer(model_dim,num_heads,ffn_units,dropout_rate) for _ in range(num_layers)]\n",
        "\n",
        "    def call(self, x, enc_out, mask, training=False):\n",
        "        seq_len = x.shape[1]\n",
        "        attention_weights = {}\n",
        "        \n",
        "        # Embed input in model_dim and add positional encoding \n",
        "        x = self.embedding(x)\n",
        "        x *= tf.math.sqrt(tf.cast(self.model_dim, tf.float32))\n",
        "        x += self.pos_encoding[:, :seq_len]\n",
        "\n",
        "        x = self.dropout(x, training=training)\n",
        "\n",
        "        # Go through the decoder layers\n",
        "        for i, layer in enumerate(self.dec_layers):\n",
        "            x, enc_dec_attention = layer(x, enc_out, mask, training)\n",
        "            \n",
        "            attention_weights[f'dec_layer_{i}'] = enc_dec_attention\n",
        "\n",
        "        return x, attention_weights"
      ],
      "execution_count": 50,
      "outputs": []
    },
    {
      "cell_type": "markdown",
      "metadata": {
        "id": "ohHge3SMiPCG"
      },
      "source": [
        "### Transformer"
      ]
    },
    {
      "cell_type": "code",
      "metadata": {
        "id": "So3wW9UgiQML"
      },
      "source": [
        "class Transformer(Model):\n",
        "    def __init__(self, vocab_size, num_enc_layers, num_dec_layers, model_dim, num_heads, ffn_units, enc_seq_len, dec_seq_len, dropout_rate):\n",
        "        super(Transformer, self).__init__()\n",
        "\n",
        "        self.encoder = Encoder(num_enc_layers, model_dim, num_heads, ffn_units, enc_seq_len, dropout_rate)\n",
        "        self.decoder = Decoder(vocab_size, num_dec_layers, model_dim, num_heads, ffn_units, dec_seq_len, dropout_rate)\n",
        "\n",
        "        # Output logit scores for the vocabulary\n",
        "        self.output_layer = tf.keras.layers.Dense(vocab_size)\n",
        "    \n",
        "    def call(self, input, mask=None, training=False):\n",
        "        x, target = input\n",
        "        encoder_out = self.encoder(x, mask=None, training=training)\n",
        "        decoder_out, attention_weights = self.decoder(target, encoder_out, mask, training=training)\n",
        "        output = self.output_layer(decoder_out)\n",
        "\n",
        "        return output, attention_weights"
      ],
      "execution_count": 23,
      "outputs": []
    },
    {
      "cell_type": "markdown",
      "metadata": {
        "id": "AKw248VBpv_j"
      },
      "source": [
        "## Training"
      ]
    },
    {
      "cell_type": "markdown",
      "metadata": {
        "id": "00c8qOMEjUlr"
      },
      "source": [
        "### Define Training Function"
      ]
    },
    {
      "cell_type": "code",
      "metadata": {
        "id": "b7TuaBo-DCOD"
      },
      "source": [
        "from IPython.display import clear_output\n",
        "\n",
        "def visualize_progress(num_epochs, epoch, train_losses, test_losses):\n",
        "    clear_output(wait=True)\n",
        "    fig = plt.figure(figsize=(15,5))\n",
        "    plt.xlim((0,num_epochs))\n",
        "    plt.plot(train_losses,label='Training')\n",
        "    plt.plot(test_losses,label='Test')\n",
        "    plt.ylabel('Loss',fontsize=24)\n",
        "    plt.xlabel('Epochs',fontsize=24)\n",
        "    plt.title(f'Epoch: {epoch+1}', fontweight='bold', fontsize=30)\n",
        "    plt.xticks(np.arange(0,num_epochs,2))\n",
        "    plt.legend()\n",
        "    plt.show()"
      ],
      "execution_count": 24,
      "outputs": []
    },
    {
      "cell_type": "code",
      "metadata": {
        "id": "oOEuSXFMp1XM"
      },
      "source": [
        "def train_model(model, train_dataset, val_dataset, optimizer, num_epochs, dec_seq_len):\n",
        "    running_average_factor = 0.95\n",
        "\n",
        "    # create mask\n",
        "    mask = look_ahead_mask(size = dec_seq_len)\n",
        "\n",
        "    # Initialize lists for later visualization.\n",
        "    train_losses = []\n",
        "    test_losses = []\n",
        "    \n",
        "    # Train loop for num_epochs epochs.\n",
        "    for epoch in range(num_epochs):\n",
        "            \n",
        "        # Training\n",
        "        running_average_loss = 0\n",
        "        for input_seq, target_seq in train_dataset:\n",
        "            train_loss = train_step(model, input_seq, target_seq, mask, optimizer)\n",
        "            running_average_loss = running_average_factor * running_average_loss  + (1 - running_average_factor) * train_loss\n",
        "\n",
        "        train_losses.append(running_average_loss.numpy())\n",
        "\n",
        "        # Test\n",
        "        total_test_loss = 0\n",
        "        for input_seq, target_seq in val_dataset:\n",
        "            test_loss = test_step(model, input_seq, target_seq)\n",
        "            total_test_loss += test_loss\n",
        "\n",
        "        test_losses.append(total_test_loss)\n",
        "\n",
        "        visualize_progress(num_epochs, epoch, train_losses, test_losses)\n",
        "\n",
        "        # Display loss and accuracy for current epoch    \n",
        "        print(f'Epoch: __ {epoch+1}')\n",
        "        print('Train loss: ',running_average_loss.numpy())\n",
        "        print('Test loss: ',total_test_loss.numpy())"
      ],
      "execution_count": 25,
      "outputs": []
    },
    {
      "cell_type": "markdown",
      "metadata": {
        "id": "DA2on3mnjZ6G"
      },
      "source": [
        "### Define Training Step"
      ]
    },
    {
      "cell_type": "code",
      "metadata": {
        "id": "Xm3m5LxBjZdd"
      },
      "source": [
        "@tf.function\n",
        "def train_step(model, input_seq, target_seq, look_ahead_mask, optimizer):\n",
        "    # target_seq_prior is the input for the decoder utilizing teacher-forcing, it does not contain the <end> token\n",
        "    target_seq_prior = target_seq[:, :-1]\n",
        "    # target_seq_posterior is the target output, it does not contain the <start> token\n",
        "    target_seq_posterior = target_seq[:, 1:]\n",
        "\n",
        "    with tf.GradientTape() as tape:\n",
        "        pred, _ = model((input_seq, target_seq_prior), look_ahead_mask, training=True)\n",
        "        loss = loss_function(target_seq_posterior, pred)\n",
        "        gradients = tape.gradient(loss, model.trainable_variables)\n",
        "\n",
        "    optimizer.apply_gradients(zip(gradients, model.trainable_variables))\n",
        "    return loss\n",
        "\n",
        "@tf.function\n",
        "def test_step(model, input_seq, target_seq):\n",
        "    batch_size = target_seq.shape[0]\n",
        "    output = tf.expand_dims(tf.repeat([tokenizer.word_index['<start>']],batch_size), 1)\n",
        "    for i in range(dec_seq_len):\n",
        "        mask = look_ahead_mask(output.shape[1])\n",
        "        pred, _ = model((input_seq, output), mask)\n",
        "\n",
        "        # Take the last prediction\n",
        "        pred = pred[:, -1:, :]\n",
        "\n",
        "        # Get the predicted word\n",
        "        predicted_id = tf.argmax(pred, axis=-1, output_type=tf.int32)\n",
        "\n",
        "        try:\n",
        "            softmax_pred = tf.concat([softmax_pred,pred], axis=1)\n",
        "        except:\n",
        "            softmax_pred = pred\n",
        "                \n",
        "        # Add latest prediction to the output sequence\n",
        "        output = tf.concat([output, predicted_id], axis=-1)\n",
        "    \n",
        "    loss = loss_function(target_seq[:, 1:], softmax_pred)\n",
        "\n",
        "    return loss"
      ],
      "execution_count": 120,
      "outputs": []
    },
    {
      "cell_type": "code",
      "metadata": {
        "id": "_mr679IZEDZB"
      },
      "source": [
        "# Initialize the loss\n",
        "loss_object = tf.keras.losses.SparseCategoricalCrossentropy(from_logits=True, reduction='none')\n",
        "\n",
        "def loss_function(target, pred):\n",
        "    # Create mask to ignore padding\n",
        "    mask = tf.math.logical_not(tf.math.equal(target, 0))\n",
        "    loss = loss_object(target, pred)\n",
        "\n",
        "    mask = tf.cast(mask, dtype=loss.dtype)\n",
        "\n",
        "    # Set loss for padded values to 0\n",
        "    loss *= mask\n",
        "\n",
        "    # Calculate mean loss\n",
        "    loss = tf.reduce_sum(loss)/tf.reduce_sum(mask)\n",
        "\n",
        "    return loss"
      ],
      "execution_count": 115,
      "outputs": []
    },
    {
      "cell_type": "code",
      "metadata": {
        "id": "EBZUavo7pjah"
      },
      "source": [
        "class CustomSchedule(tf.keras.optimizers.schedules.LearningRateSchedule):\n",
        "  def __init__(self, model_dim, warmup_steps=4000):\n",
        "    super(CustomSchedule, self).__init__()\n",
        "\n",
        "    self.model_dim = model_dim\n",
        "    self.model_dim = tf.cast(self.model_dim, tf.float32)\n",
        "\n",
        "    self.warmup_steps = warmup_steps\n",
        "\n",
        "  def __call__(self, step):\n",
        "    arg1 = tf.math.rsqrt(step)\n",
        "    arg2 = step * (self.warmup_steps ** -1.5)\n",
        "\n",
        "    return tf.math.rsqrt(self.model_dim) * tf.math.minimum(arg1, arg2)"
      ],
      "execution_count": 28,
      "outputs": []
    },
    {
      "cell_type": "markdown",
      "metadata": {
        "id": "zYCLnGD1DEpF"
      },
      "source": [
        "### Train Transformer"
      ]
    },
    {
      "cell_type": "code",
      "metadata": {
        "id": "9Kr1DkPPDJSY",
        "scrolled": false
      },
      "source": [
        "tf.keras.backend.clear_session()\n",
        "\n",
        "num_enc_layers = 6\n",
        "num_dec_layers = 2\n",
        "model_dim = 32\n",
        "num_heads = 4\n",
        "ffn_units = 64\n",
        "enc_seq_len = num_patches_h*num_patches_v\n",
        "dec_seq_len = max_seq_len -1\n",
        "dropout_rate = 0.3\n",
        "epochs = 2\n",
        "\n",
        "learning_rate = CustomSchedule(model_dim)\n",
        "\n",
        "# Initialize the optimizer\n",
        "optimizer = tf.keras.optimizers.Adam(learning_rate, beta_1=0.9, beta_2=0.98,\n",
        "                                     epsilon=1e-9)\n",
        "\n",
        "# Initialize model\n",
        "captioning_model = Transformer(WORD_NUM, num_enc_layers, num_dec_layers, model_dim, num_heads, ffn_units, enc_seq_len, dec_seq_len, dropout_rate)\n",
        "\n",
        "train_model(\n",
        "    model = captioning_model,\n",
        "    train_dataset = train_dataset,\n",
        "    val_dataset = val_dataset,\n",
        "    optimizer = optimizer,\n",
        "    num_epochs = epochs,\n",
        "    dec_seq_len = dec_seq_len\n",
        ")"
      ],
      "execution_count": null,
      "outputs": []
    },
    {
      "cell_type": "markdown",
      "metadata": {
        "id": "jdVUHNV3LoUh"
      },
      "source": [
        "## Evaluation"
      ]
    },
    {
      "cell_type": "markdown",
      "metadata": {
        "id": "QOE-mZTlkRSK"
      },
      "source": [
        "### Generate Caption"
      ]
    },
    {
      "cell_type": "code",
      "metadata": {
        "id": "rSqobZqGa98k"
      },
      "source": [
        "def greedy_evaluate(image_id):\n",
        "    img = load_image(val_image_folder + image_id + '.jpg')\n",
        "    batched_img = tf.expand_dims(img, 0)\n",
        "    patches = create_patches(batched_img)\n",
        "\n",
        "    output = tf.expand_dims([tokenizer.word_index['<start>']], 0)\n",
        "\n",
        "    for i in range(dec_seq_len):\n",
        "        mask = look_ahead_mask(output.shape[1])\n",
        "        \n",
        "        predictions, attention_weights = captioning_model((patches, output), mask)\n",
        "\n",
        "        predictions = predictions[:, -1:, :]\n",
        "\n",
        "        predicted_id = tf.argmax(predictions, axis=-1, output_type=tf.int32)\n",
        "        \n",
        "        output = tf.concat([output, predicted_id], axis=-1)\n",
        "        \n",
        "        predicted_id = tf.squeeze(predicted_id)\n",
        "\n",
        "        if tokenizer.index_word[predicted_id.numpy()] == '<end>':\n",
        "            break\n",
        "\n",
        "    result = tokenizer.sequences_to_texts(output.numpy())[0]\n",
        "        \n",
        "    return img, result, attention_weights"
      ],
      "execution_count": 112,
      "outputs": []
    },
    {
      "cell_type": "code",
      "metadata": {
        "id": "fviyZhHd6eJv"
      },
      "source": [
        "img_id = 8\n",
        "img = load_image(val_image_folder + val_image_ids[img_id] + '.jpg')\n",
        "captions = val_image_id_to_captions[val_image_ids[img_id]]\n",
        "plt.imshow(img+1)\n",
        "print('Goal: ',captions)\n",
        "img, caption, attention_weights = greedy_evaluate(val_image_ids[img_id])\n",
        "caption"
      ],
      "execution_count": null,
      "outputs": []
    },
    {
      "cell_type": "code",
      "metadata": {
        "id": "eCd3fpXUUucY"
      },
      "source": [
        "def evaluate_beam_search(image_id):\n",
        "\n",
        "    image = load_image(val_image_folder + image_id + '.jpg')\n",
        "    image = tf.expand_dims(image, 0)\n",
        "    image_patched = create_patches(image)\n",
        "    \n",
        "\n",
        "    best_predictions = {}\n",
        "    # initialize predictions {score: [sequence]} with start token\n",
        "    best_predictions[0] = [tokenizer.word_index['<start>']]\n",
        "    \n",
        "    beams = 5\n",
        " \n",
        "    for i in range(dec_seq_len):\n",
        "        for score, sequence in best_predictions.copy().items():\n",
        "           \n",
        "            mask = look_ahead_mask(len(sequence))\n",
        "            predictions, _ = captioning_model((image_patched, tf.expand_dims(sequence, 0)), mask)\n",
        "\n",
        "            # get k best new predictions and their score\n",
        "            k_best = tf.math.top_k(tf.squeeze(predictions[:,-1,:]), k=beams)\n",
        "            k_best = dict(zip(k_best[0].numpy(), k_best[1].numpy()))\n",
        "            for new_score, new_element in k_best.items():\n",
        "                if tokenizer.index_word[new_element] == '<end>':\n",
        "                    return [tokenizer.index_word[elem] for elem in sequence]\n",
        "                best_predictions[score + new_score] = sequence + [new_element]\n",
        "                                            \n",
        "        # trim dict to k best predictions\n",
        "        best_predictions = collections.OrderedDict(sorted(best_predictions.items(), reverse=True)[:beams])\n",
        "\n",
        "    return [tokenizer.index_word[elem] for elem in collections.OrderedDict(sorted(best_predictions.items(), reverse=True)[:1]).values()]"
      ],
      "execution_count": 68,
      "outputs": []
    },
    {
      "cell_type": "code",
      "metadata": {
        "id": "FzNQLKfErdXL"
      },
      "source": [
        "img = load_image(val_image_folder + val_image_ids[img_id] + '.jpg')\n",
        "captions = val_image_id_to_captions[val_image_ids[img_id]]\n",
        "plt.imshow(img+1)\n",
        "print('Goal: ',captions)\n",
        "caption = evaluate_beam_search(val_image_ids[img_id])\n",
        "caption"
      ],
      "execution_count": null,
      "outputs": []
    },
    {
      "cell_type": "markdown",
      "metadata": {
        "id": "vssFNTbMkXTo"
      },
      "source": [
        "### Visualize Attention"
      ]
    },
    {
      "cell_type": "code",
      "metadata": {
        "id": "Sxy8PolZa98k"
      },
      "source": [
        "def attention_plot(image, caption, attention_heads):\n",
        "    fig = plt.figure(figsize=(5, 10))\n",
        "    num_heads = attention_heads.shape[0]\n",
        "    word_list = caption.split()[1:]\n",
        "    \n",
        "    for i in range(len(word_list)):\n",
        "        for j, head in enumerate(attention_heads):\n",
        "            att = np.reshape(head[i],(num_patches_h,num_patches_v))\n",
        "            ax = fig.add_subplot(len(word_list),num_heads, j+1+i*num_heads)\n",
        "            ax.set_title(word_list[i])\n",
        "            img = ax.imshow((image+1)/2)\n",
        "            ax.imshow(att, cmap='gray', alpha=0.6, extent=img.get_extent())\n",
        "            ax.axis('off')\n",
        "\n",
        "    plt.tight_layout()\n",
        "    plt.show()"
      ],
      "execution_count": 96,
      "outputs": []
    },
    {
      "cell_type": "code",
      "metadata": {
        "colab": {
          "base_uri": "https://localhost:8080/",
          "height": 729
        },
        "id": "wnMhQWa-27sG",
        "outputId": "06c5695d-b2e0-4e5b-e60d-8a847485267a"
      },
      "source": [
        "attention_plot(img, caption, attention_weights[f'dec_layer_{num_dec_layers-1}'][0])"
      ],
      "execution_count": 128,
      "outputs": [
        {
          "output_type": "display_data",
          "data": {
            "image/png": "[encoded data removed]",
            "text/plain": [
              "<Figure size 360x720 with 32 Axes>"
            ]
          },
          "metadata": {
            "tags": [],
            "needs_background": "light"
          }
        }
      ]
    }
  ]
}